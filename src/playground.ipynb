{
 "cells": [
  {
   "cell_type": "code",
   "execution_count": 1,
   "id": "initial_id",
   "metadata": {
    "collapsed": true,
    "ExecuteTime": {
     "end_time": "2024-05-01T19:49:43.623480Z",
     "start_time": "2024-05-01T19:49:43.092393600Z"
    }
   },
   "outputs": [],
   "source": [
    "from src.MergeMinutes import MergeMinutes\n",
    "\n",
    "import pandas as pd\n"
   ]
  },
  {
   "cell_type": "code",
   "outputs": [],
   "source": [
    "%load_ext autoreload\n",
    "%autoreload 2"
   ],
   "metadata": {
    "collapsed": false,
    "ExecuteTime": {
     "end_time": "2024-05-01T19:49:43.666589100Z",
     "start_time": "2024-05-01T19:49:43.626913500Z"
    }
   },
   "id": "ebecd4f0fb67dcb0",
   "execution_count": 2
  },
  {
   "cell_type": "code",
   "outputs": [
    {
     "name": "stdout",
     "output_type": "stream",
     "text": [
      "Merging all dataframes...\n",
      "Reading and processing minute calories data...\n",
      "Reading and processing minute intensities data...\n"
     ]
    },
    {
     "data": {
      "text/plain": "                                                       Calories  Intensity\nId         DateTime            Month Day WeekDay Hour                     \n1503960366 2016-03-12 00:00:00 3     12  5       0      0.79730          0\n           2016-03-12 00:01:00 3     12  5       0      0.79730          0\n           2016-03-12 00:02:00 3     12  5       0      0.79730          0\n           2016-03-12 00:03:00 3     12  5       0      0.79730          0\n           2016-03-12 00:04:00 3     12  5       0      0.79730          0\n...                                                         ...        ...\n8877689391 2016-05-12 13:55:00 5     12  3       13     1.33353          0\n           2016-05-12 13:56:00 5     12  3       13     1.33353          0\n           2016-05-12 13:57:00 5     12  3       13     1.33353          0\n           2016-05-12 13:58:00 5     12  3       13     1.33353          0\n           2016-05-12 13:59:00 5     12  3       13     1.33353          0\n\n[2791620 rows x 2 columns]",
      "text/html": "<div>\n<style scoped>\n    .dataframe tbody tr th:only-of-type {\n        vertical-align: middle;\n    }\n\n    .dataframe tbody tr th {\n        vertical-align: top;\n    }\n\n    .dataframe thead th {\n        text-align: right;\n    }\n</style>\n<table border=\"1\" class=\"dataframe\">\n  <thead>\n    <tr style=\"text-align: right;\">\n      <th></th>\n      <th></th>\n      <th></th>\n      <th></th>\n      <th></th>\n      <th></th>\n      <th>Calories</th>\n      <th>Intensity</th>\n    </tr>\n    <tr>\n      <th>Id</th>\n      <th>DateTime</th>\n      <th>Month</th>\n      <th>Day</th>\n      <th>WeekDay</th>\n      <th>Hour</th>\n      <th></th>\n      <th></th>\n    </tr>\n  </thead>\n  <tbody>\n    <tr>\n      <th rowspan=\"5\" valign=\"top\">1503960366</th>\n      <th>2016-03-12 00:00:00</th>\n      <th>3</th>\n      <th>12</th>\n      <th>5</th>\n      <th>0</th>\n      <td>0.79730</td>\n      <td>0</td>\n    </tr>\n    <tr>\n      <th>2016-03-12 00:01:00</th>\n      <th>3</th>\n      <th>12</th>\n      <th>5</th>\n      <th>0</th>\n      <td>0.79730</td>\n      <td>0</td>\n    </tr>\n    <tr>\n      <th>2016-03-12 00:02:00</th>\n      <th>3</th>\n      <th>12</th>\n      <th>5</th>\n      <th>0</th>\n      <td>0.79730</td>\n      <td>0</td>\n    </tr>\n    <tr>\n      <th>2016-03-12 00:03:00</th>\n      <th>3</th>\n      <th>12</th>\n      <th>5</th>\n      <th>0</th>\n      <td>0.79730</td>\n      <td>0</td>\n    </tr>\n    <tr>\n      <th>2016-03-12 00:04:00</th>\n      <th>3</th>\n      <th>12</th>\n      <th>5</th>\n      <th>0</th>\n      <td>0.79730</td>\n      <td>0</td>\n    </tr>\n    <tr>\n      <th>...</th>\n      <th>...</th>\n      <th>...</th>\n      <th>...</th>\n      <th>...</th>\n      <th>...</th>\n      <td>...</td>\n      <td>...</td>\n    </tr>\n    <tr>\n      <th rowspan=\"5\" valign=\"top\">8877689391</th>\n      <th>2016-05-12 13:55:00</th>\n      <th>5</th>\n      <th>12</th>\n      <th>3</th>\n      <th>13</th>\n      <td>1.33353</td>\n      <td>0</td>\n    </tr>\n    <tr>\n      <th>2016-05-12 13:56:00</th>\n      <th>5</th>\n      <th>12</th>\n      <th>3</th>\n      <th>13</th>\n      <td>1.33353</td>\n      <td>0</td>\n    </tr>\n    <tr>\n      <th>2016-05-12 13:57:00</th>\n      <th>5</th>\n      <th>12</th>\n      <th>3</th>\n      <th>13</th>\n      <td>1.33353</td>\n      <td>0</td>\n    </tr>\n    <tr>\n      <th>2016-05-12 13:58:00</th>\n      <th>5</th>\n      <th>12</th>\n      <th>3</th>\n      <th>13</th>\n      <td>1.33353</td>\n      <td>0</td>\n    </tr>\n    <tr>\n      <th>2016-05-12 13:59:00</th>\n      <th>5</th>\n      <th>12</th>\n      <th>3</th>\n      <th>13</th>\n      <td>1.33353</td>\n      <td>0</td>\n    </tr>\n  </tbody>\n</table>\n<p>2791620 rows × 2 columns</p>\n</div>"
     },
     "execution_count": 14,
     "metadata": {},
     "output_type": "execute_result"
    }
   ],
   "source": [
    "merge = MergeMinutes()\n",
    "merge.merge_all_dataframes()\n",
    "df = merge.handling_missing_values()\n",
    "df"
   ],
   "metadata": {
    "collapsed": false,
    "ExecuteTime": {
     "end_time": "2024-05-01T19:54:03.408607500Z",
     "start_time": "2024-05-01T19:53:41.570483Z"
    }
   },
   "id": "d75881903c0c3c6e",
   "execution_count": 14
  },
  {
   "cell_type": "code",
   "outputs": [
    {
     "data": {
      "text/plain": "0"
     },
     "execution_count": 19,
     "metadata": {},
     "output_type": "execute_result"
    }
   ],
   "source": [
    "df['Intensity'].isnull().sum()"
   ],
   "metadata": {
    "collapsed": false,
    "ExecuteTime": {
     "end_time": "2024-05-01T19:54:43.647916800Z",
     "start_time": "2024-05-01T19:54:43.598285400Z"
    }
   },
   "id": "19a800620893e96c",
   "execution_count": 19
  },
  {
   "cell_type": "code",
   "outputs": [],
   "source": [
    "df = df.set_index(['Id', 'ActivityMinute'])"
   ],
   "metadata": {
    "collapsed": false,
    "ExecuteTime": {
     "end_time": "2024-05-01T10:40:39.097766600Z",
     "start_time": "2024-05-01T10:40:39.039316900Z"
    }
   },
   "id": "5ac0919c1a8cd523",
   "execution_count": 78
  },
  {
   "cell_type": "code",
   "outputs": [
    {
     "ename": "ValueError",
     "evalue": "MultiIndex has no single backing array. Use 'MultiIndex.to_numpy()' to get a NumPy array of tuples.",
     "output_type": "error",
     "traceback": [
      "\u001B[1;31m---------------------------------------------------------------------------\u001B[0m",
      "\u001B[1;31mValueError\u001B[0m                                Traceback (most recent call last)",
      "Cell \u001B[1;32mIn[79], line 1\u001B[0m\n\u001B[1;32m----> 1\u001B[0m df\u001B[38;5;241m.\u001B[39mresample(\u001B[38;5;124m'\u001B[39m\u001B[38;5;124mT\u001B[39m\u001B[38;5;124m'\u001B[39m)\u001B[38;5;241m.\u001B[39mffill()\n",
      "File \u001B[1;32mC:\\ProgramData\\miniconda3\\Lib\\site-packages\\pandas\\core\\generic.py:9439\u001B[0m, in \u001B[0;36mNDFrame.resample\u001B[1;34m(self, rule, axis, closed, label, convention, kind, on, level, origin, offset, group_keys)\u001B[0m\n\u001B[0;32m   9436\u001B[0m \u001B[38;5;28;01melse\u001B[39;00m:\n\u001B[0;32m   9437\u001B[0m     axis \u001B[38;5;241m=\u001B[39m \u001B[38;5;241m0\u001B[39m\n\u001B[1;32m-> 9439\u001B[0m \u001B[38;5;28;01mreturn\u001B[39;00m get_resampler(\n\u001B[0;32m   9440\u001B[0m     cast(\u001B[38;5;124m\"\u001B[39m\u001B[38;5;124mSeries | DataFrame\u001B[39m\u001B[38;5;124m\"\u001B[39m, \u001B[38;5;28mself\u001B[39m),\n\u001B[0;32m   9441\u001B[0m     freq\u001B[38;5;241m=\u001B[39mrule,\n\u001B[0;32m   9442\u001B[0m     label\u001B[38;5;241m=\u001B[39mlabel,\n\u001B[0;32m   9443\u001B[0m     closed\u001B[38;5;241m=\u001B[39mclosed,\n\u001B[0;32m   9444\u001B[0m     axis\u001B[38;5;241m=\u001B[39maxis,\n\u001B[0;32m   9445\u001B[0m     kind\u001B[38;5;241m=\u001B[39mkind,\n\u001B[0;32m   9446\u001B[0m     convention\u001B[38;5;241m=\u001B[39mconvention,\n\u001B[0;32m   9447\u001B[0m     key\u001B[38;5;241m=\u001B[39mon,\n\u001B[0;32m   9448\u001B[0m     level\u001B[38;5;241m=\u001B[39mlevel,\n\u001B[0;32m   9449\u001B[0m     origin\u001B[38;5;241m=\u001B[39morigin,\n\u001B[0;32m   9450\u001B[0m     offset\u001B[38;5;241m=\u001B[39moffset,\n\u001B[0;32m   9451\u001B[0m     group_keys\u001B[38;5;241m=\u001B[39mgroup_keys,\n\u001B[0;32m   9452\u001B[0m )\n",
      "File \u001B[1;32mC:\\ProgramData\\miniconda3\\Lib\\site-packages\\pandas\\core\\resample.py:1970\u001B[0m, in \u001B[0;36mget_resampler\u001B[1;34m(obj, kind, **kwds)\u001B[0m\n\u001B[0;32m   1966\u001B[0m \u001B[38;5;250m\u001B[39m\u001B[38;5;124;03m\"\"\"\u001B[39;00m\n\u001B[0;32m   1967\u001B[0m \u001B[38;5;124;03mCreate a TimeGrouper and return our resampler.\u001B[39;00m\n\u001B[0;32m   1968\u001B[0m \u001B[38;5;124;03m\"\"\"\u001B[39;00m\n\u001B[0;32m   1969\u001B[0m tg \u001B[38;5;241m=\u001B[39m TimeGrouper(\u001B[38;5;241m*\u001B[39m\u001B[38;5;241m*\u001B[39mkwds)\n\u001B[1;32m-> 1970\u001B[0m \u001B[38;5;28;01mreturn\u001B[39;00m tg\u001B[38;5;241m.\u001B[39m_get_resampler(obj, kind\u001B[38;5;241m=\u001B[39mkind)\n",
      "File \u001B[1;32mC:\\ProgramData\\miniconda3\\Lib\\site-packages\\pandas\\core\\resample.py:2131\u001B[0m, in \u001B[0;36mTimeGrouper._get_resampler\u001B[1;34m(self, obj, kind)\u001B[0m\n\u001B[0;32m   2112\u001B[0m \u001B[38;5;28;01mdef\u001B[39;00m \u001B[38;5;21m_get_resampler\u001B[39m(\u001B[38;5;28mself\u001B[39m, obj: NDFrame, kind\u001B[38;5;241m=\u001B[39m\u001B[38;5;28;01mNone\u001B[39;00m) \u001B[38;5;241m-\u001B[39m\u001B[38;5;241m>\u001B[39m Resampler:\n\u001B[0;32m   2113\u001B[0m \u001B[38;5;250m    \u001B[39m\u001B[38;5;124;03m\"\"\"\u001B[39;00m\n\u001B[0;32m   2114\u001B[0m \u001B[38;5;124;03m    Return my resampler or raise if we have an invalid axis.\u001B[39;00m\n\u001B[0;32m   2115\u001B[0m \n\u001B[1;32m   (...)\u001B[0m\n\u001B[0;32m   2129\u001B[0m \n\u001B[0;32m   2130\u001B[0m \u001B[38;5;124;03m    \"\"\"\u001B[39;00m\n\u001B[1;32m-> 2131\u001B[0m     _, ax, indexer \u001B[38;5;241m=\u001B[39m \u001B[38;5;28mself\u001B[39m\u001B[38;5;241m.\u001B[39m_set_grouper(obj, gpr_index\u001B[38;5;241m=\u001B[39m\u001B[38;5;28;01mNone\u001B[39;00m)\n\u001B[0;32m   2133\u001B[0m     \u001B[38;5;28;01mif\u001B[39;00m \u001B[38;5;28misinstance\u001B[39m(ax, DatetimeIndex):\n\u001B[0;32m   2134\u001B[0m         \u001B[38;5;28;01mreturn\u001B[39;00m DatetimeIndexResampler(\n\u001B[0;32m   2135\u001B[0m             obj,\n\u001B[0;32m   2136\u001B[0m             timegrouper\u001B[38;5;241m=\u001B[39m\u001B[38;5;28mself\u001B[39m,\n\u001B[1;32m   (...)\u001B[0m\n\u001B[0;32m   2140\u001B[0m             gpr_index\u001B[38;5;241m=\u001B[39max,\n\u001B[0;32m   2141\u001B[0m         )\n",
      "File \u001B[1;32mC:\\ProgramData\\miniconda3\\Lib\\site-packages\\pandas\\core\\groupby\\grouper.py:404\u001B[0m, in \u001B[0;36mGrouper._set_grouper\u001B[1;34m(self, obj, sort, gpr_index)\u001B[0m\n\u001B[0;32m    400\u001B[0m \u001B[38;5;66;03m# possibly sort\u001B[39;00m\n\u001B[0;32m    401\u001B[0m \u001B[38;5;28;01mif\u001B[39;00m (\u001B[38;5;28mself\u001B[39m\u001B[38;5;241m.\u001B[39msort \u001B[38;5;129;01mor\u001B[39;00m sort) \u001B[38;5;129;01mand\u001B[39;00m \u001B[38;5;129;01mnot\u001B[39;00m ax\u001B[38;5;241m.\u001B[39mis_monotonic_increasing:\n\u001B[0;32m    402\u001B[0m     \u001B[38;5;66;03m# use stable sort to support first, last, nth\u001B[39;00m\n\u001B[0;32m    403\u001B[0m     \u001B[38;5;66;03m# TODO: why does putting na_position=\"first\" fix datetimelike cases?\u001B[39;00m\n\u001B[1;32m--> 404\u001B[0m     indexer \u001B[38;5;241m=\u001B[39m \u001B[38;5;28mself\u001B[39m\u001B[38;5;241m.\u001B[39m_indexer_deprecated \u001B[38;5;241m=\u001B[39m ax\u001B[38;5;241m.\u001B[39marray\u001B[38;5;241m.\u001B[39margsort(\n\u001B[0;32m    405\u001B[0m         kind\u001B[38;5;241m=\u001B[39m\u001B[38;5;124m\"\u001B[39m\u001B[38;5;124mmergesort\u001B[39m\u001B[38;5;124m\"\u001B[39m, na_position\u001B[38;5;241m=\u001B[39m\u001B[38;5;124m\"\u001B[39m\u001B[38;5;124mfirst\u001B[39m\u001B[38;5;124m\"\u001B[39m\n\u001B[0;32m    406\u001B[0m     )\n\u001B[0;32m    407\u001B[0m     ax \u001B[38;5;241m=\u001B[39m ax\u001B[38;5;241m.\u001B[39mtake(indexer)\n\u001B[0;32m    408\u001B[0m     obj \u001B[38;5;241m=\u001B[39m obj\u001B[38;5;241m.\u001B[39mtake(indexer, axis\u001B[38;5;241m=\u001B[39m\u001B[38;5;28mself\u001B[39m\u001B[38;5;241m.\u001B[39maxis)\n",
      "File \u001B[1;32mC:\\ProgramData\\miniconda3\\Lib\\site-packages\\pandas\\core\\indexes\\multi.py:796\u001B[0m, in \u001B[0;36mMultiIndex.array\u001B[1;34m(self)\u001B[0m\n\u001B[0;32m    786\u001B[0m \u001B[38;5;129m@property\u001B[39m\n\u001B[0;32m    787\u001B[0m \u001B[38;5;28;01mdef\u001B[39;00m \u001B[38;5;21marray\u001B[39m(\u001B[38;5;28mself\u001B[39m):\n\u001B[0;32m    788\u001B[0m \u001B[38;5;250m    \u001B[39m\u001B[38;5;124;03m\"\"\"\u001B[39;00m\n\u001B[0;32m    789\u001B[0m \u001B[38;5;124;03m    Raises a ValueError for `MultiIndex` because there's no single\u001B[39;00m\n\u001B[0;32m    790\u001B[0m \u001B[38;5;124;03m    array backing a MultiIndex.\u001B[39;00m\n\u001B[1;32m   (...)\u001B[0m\n\u001B[0;32m    794\u001B[0m \u001B[38;5;124;03m    ValueError\u001B[39;00m\n\u001B[0;32m    795\u001B[0m \u001B[38;5;124;03m    \"\"\"\u001B[39;00m\n\u001B[1;32m--> 796\u001B[0m     \u001B[38;5;28;01mraise\u001B[39;00m \u001B[38;5;167;01mValueError\u001B[39;00m(\n\u001B[0;32m    797\u001B[0m         \u001B[38;5;124m\"\u001B[39m\u001B[38;5;124mMultiIndex has no single backing array. Use \u001B[39m\u001B[38;5;124m\"\u001B[39m\n\u001B[0;32m    798\u001B[0m         \u001B[38;5;124m\"\u001B[39m\u001B[38;5;124m'\u001B[39m\u001B[38;5;124mMultiIndex.to_numpy()\u001B[39m\u001B[38;5;124m'\u001B[39m\u001B[38;5;124m to get a NumPy array of tuples.\u001B[39m\u001B[38;5;124m\"\u001B[39m\n\u001B[0;32m    799\u001B[0m     )\n",
      "\u001B[1;31mValueError\u001B[0m: MultiIndex has no single backing array. Use 'MultiIndex.to_numpy()' to get a NumPy array of tuples."
     ]
    }
   ],
   "source": [
    "df.resample('T').ffill()"
   ],
   "metadata": {
    "collapsed": false,
    "ExecuteTime": {
     "end_time": "2024-05-01T10:40:41.267069600Z",
     "start_time": "2024-05-01T10:40:41.192937300Z"
    }
   },
   "id": "e5695eb57234c279",
   "execution_count": 79
  },
  {
   "cell_type": "code",
   "outputs": [
    {
     "ename": "TypeError",
     "evalue": "Input must be a list / sequence of array-likes.",
     "output_type": "error",
     "traceback": [
      "\u001B[1;31m---------------------------------------------------------------------------\u001B[0m",
      "\u001B[1;31mTypeError\u001B[0m                                 Traceback (most recent call last)",
      "Cell \u001B[1;32mIn[59], line 1\u001B[0m\n\u001B[1;32m----> 1\u001B[0m index \u001B[38;5;241m=\u001B[39m pd\u001B[38;5;241m.\u001B[39mMultiIndex\u001B[38;5;241m.\u001B[39mfrom_arrays([\u001B[38;5;124m'\u001B[39m\u001B[38;5;124mId\u001B[39m\u001B[38;5;124m'\u001B[39m, \u001B[38;5;124m'\u001B[39m\u001B[38;5;124mActivityMinute\u001B[39m\u001B[38;5;124m'\u001B[39m])\n\u001B[0;32m      3\u001B[0m df\u001B[38;5;241m.\u001B[39mset_index(index)\u001B[38;5;241m.\u001B[39mresample(\u001B[38;5;124m'\u001B[39m\u001B[38;5;124mT\u001B[39m\u001B[38;5;124m'\u001B[39m)\u001B[38;5;241m.\u001B[39mffill()\n",
      "File \u001B[1;32mC:\\ProgramData\\miniconda3\\Lib\\site-packages\\pandas\\core\\indexes\\multi.py:523\u001B[0m, in \u001B[0;36mMultiIndex.from_arrays\u001B[1;34m(cls, arrays, sortorder, names)\u001B[0m\n\u001B[0;32m    521\u001B[0m \u001B[38;5;28;01mfor\u001B[39;00m array \u001B[38;5;129;01min\u001B[39;00m arrays:\n\u001B[0;32m    522\u001B[0m     \u001B[38;5;28;01mif\u001B[39;00m \u001B[38;5;129;01mnot\u001B[39;00m is_list_like(array):\n\u001B[1;32m--> 523\u001B[0m         \u001B[38;5;28;01mraise\u001B[39;00m \u001B[38;5;167;01mTypeError\u001B[39;00m(error_msg)\n\u001B[0;32m    525\u001B[0m \u001B[38;5;66;03m# Check if lengths of all arrays are equal or not,\u001B[39;00m\n\u001B[0;32m    526\u001B[0m \u001B[38;5;66;03m# raise ValueError, if not\u001B[39;00m\n\u001B[0;32m    527\u001B[0m \u001B[38;5;28;01mfor\u001B[39;00m i \u001B[38;5;129;01min\u001B[39;00m \u001B[38;5;28mrange\u001B[39m(\u001B[38;5;241m1\u001B[39m, \u001B[38;5;28mlen\u001B[39m(arrays)):\n",
      "\u001B[1;31mTypeError\u001B[0m: Input must be a list / sequence of array-likes."
     ]
    }
   ],
   "source": [
    "index = pd.MultiIndex.from_arrays(['Id', 'ActivityMinute'])\n",
    "\n",
    "df.set_index(index).resample('T').ffill()"
   ],
   "metadata": {
    "collapsed": false,
    "ExecuteTime": {
     "end_time": "2024-05-01T10:31:13.428067Z",
     "start_time": "2024-05-01T10:31:13.384441900Z"
    }
   },
   "id": "8d835a2218008e18",
   "execution_count": 59
  },
  {
   "cell_type": "code",
   "outputs": [
    {
     "data": {
      "text/plain": "                              Id  \\\nActivityMinute                     \n2016-03-12 00:00:00   8077525562   \n2016-03-12 00:01:00            0   \n2016-03-12 00:02:00            0   \n2016-03-12 00:03:00            0   \n2016-03-12 00:04:00            0   \n...                          ...   \n2016-05-11 23:56:00            0   \n2016-05-11 23:57:00            0   \n2016-05-11 23:58:00            0   \n2016-05-11 23:59:00            0   \n2016-05-12 00:00:00  96074082090   \n\n                                                          ActivityDate  \\\nActivityMinute                                                           \n2016-03-12 00:00:00                                 3/12/20163/12/2016   \n2016-03-12 00:01:00                                                  0   \n2016-03-12 00:02:00                                                  0   \n2016-03-12 00:03:00                                                  0   \n2016-03-12 00:04:00                                                  0   \n...                                                                ...   \n2016-05-11 23:56:00                                                  0   \n2016-05-11 23:57:00                                                  0   \n2016-05-11 23:58:00                                                  0   \n2016-05-11 23:59:00                                                  0   \n2016-05-12 00:00:00  5/12/20165/12/20165/12/20165/12/20165/12/20165...   \n\n                     TotalSteps  TotalDistance  TrackerDistance  \\\nActivityMinute                                                    \n2016-03-12 00:00:00        5543           3.97             3.97   \n2016-03-12 00:01:00           0           0.00             0.00   \n2016-03-12 00:02:00           0           0.00             0.00   \n2016-03-12 00:03:00           0           0.00             0.00   \n2016-03-12 00:04:00           0           0.00             0.00   \n...                         ...            ...              ...   \n2016-05-11 23:56:00           0           0.00             0.00   \n2016-05-11 23:57:00           0           0.00             0.00   \n2016-05-11 23:58:00           0           0.00             0.00   \n2016-05-11 23:59:00           0           0.00             0.00   \n2016-05-12 00:00:00       73129          51.31            51.31   \n\n                     LoggedActivitiesDistance  VeryActiveDistance  \\\nActivityMinute                                                      \n2016-03-12 00:00:00                       0.0                0.00   \n2016-03-12 00:01:00                       0.0                0.00   \n2016-03-12 00:02:00                       0.0                0.00   \n2016-03-12 00:03:00                       0.0                0.00   \n2016-03-12 00:04:00                       0.0                0.00   \n...                                       ...                 ...   \n2016-05-11 23:56:00                       0.0                0.00   \n2016-05-11 23:57:00                       0.0                0.00   \n2016-05-11 23:58:00                       0.0                0.00   \n2016-05-11 23:59:00                       0.0                0.00   \n2016-05-12 00:00:00                       0.0                7.66   \n\n                     ModeratelyActiveDistance  LightActiveDistance  \\\nActivityMinute                                                       \n2016-03-12 00:00:00                       0.0                 3.96   \n2016-03-12 00:01:00                       0.0                 0.00   \n2016-03-12 00:02:00                       0.0                 0.00   \n2016-03-12 00:03:00                       0.0                 0.00   \n2016-03-12 00:04:00                       0.0                 0.00   \n...                                       ...                  ...   \n2016-05-11 23:56:00                       0.0                 0.00   \n2016-05-11 23:57:00                       0.0                 0.00   \n2016-05-11 23:58:00                       0.0                 0.00   \n2016-05-11 23:59:00                       0.0                 0.00   \n2016-05-12 00:00:00                       2.1                41.46   \n\n                     SedentaryActiveDistance  VeryActiveMinutes  \\\nActivityMinute                                                    \n2016-03-12 00:00:00                     0.01                  0   \n2016-03-12 00:01:00                     0.00                  0   \n2016-03-12 00:02:00                     0.00                  0   \n2016-03-12 00:03:00                     0.00                  0   \n2016-03-12 00:04:00                     0.00                  0   \n...                                      ...                ...   \n2016-05-11 23:56:00                     0.00                  0   \n2016-05-11 23:57:00                     0.00                  0   \n2016-05-11 23:58:00                     0.00                  0   \n2016-05-11 23:59:00                     0.00                  0   \n2016-05-12 00:00:00                     0.01                 88   \n\n                     FairlyActiveMinutes  LightlyActiveMinutes  \\\nActivityMinute                                                   \n2016-03-12 00:00:00                    0                   254   \n2016-03-12 00:01:00                    0                     0   \n2016-03-12 00:02:00                    0                     0   \n2016-03-12 00:03:00                    0                     0   \n2016-03-12 00:04:00                    0                     0   \n...                                  ...                   ...   \n2016-05-11 23:56:00                    0                     0   \n2016-05-11 23:57:00                    0                     0   \n2016-05-11 23:58:00                    0                     0   \n2016-05-11 23:59:00                    0                     0   \n2016-05-12 00:00:00                   45                  2075   \n\n                     SedentaryMinutes  Calories  \nActivityMinute                                   \n2016-03-12 00:00:00              2197      4767  \n2016-03-12 00:01:00                 0         0  \n2016-03-12 00:02:00                 0         0  \n2016-03-12 00:03:00                 0         0  \n2016-03-12 00:04:00                 0         0  \n...                               ...       ...  \n2016-05-11 23:56:00                 0         0  \n2016-05-11 23:57:00                 0         0  \n2016-05-11 23:58:00                 0         0  \n2016-05-11 23:59:00                 0         0  \n2016-05-12 00:00:00             13692     23925  \n\n[87841 rows x 15 columns]",
      "text/html": "<div>\n<style scoped>\n    .dataframe tbody tr th:only-of-type {\n        vertical-align: middle;\n    }\n\n    .dataframe tbody tr th {\n        vertical-align: top;\n    }\n\n    .dataframe thead th {\n        text-align: right;\n    }\n</style>\n<table border=\"1\" class=\"dataframe\">\n  <thead>\n    <tr style=\"text-align: right;\">\n      <th></th>\n      <th>Id</th>\n      <th>ActivityDate</th>\n      <th>TotalSteps</th>\n      <th>TotalDistance</th>\n      <th>TrackerDistance</th>\n      <th>LoggedActivitiesDistance</th>\n      <th>VeryActiveDistance</th>\n      <th>ModeratelyActiveDistance</th>\n      <th>LightActiveDistance</th>\n      <th>SedentaryActiveDistance</th>\n      <th>VeryActiveMinutes</th>\n      <th>FairlyActiveMinutes</th>\n      <th>LightlyActiveMinutes</th>\n      <th>SedentaryMinutes</th>\n      <th>Calories</th>\n    </tr>\n    <tr>\n      <th>ActivityMinute</th>\n      <th></th>\n      <th></th>\n      <th></th>\n      <th></th>\n      <th></th>\n      <th></th>\n      <th></th>\n      <th></th>\n      <th></th>\n      <th></th>\n      <th></th>\n      <th></th>\n      <th></th>\n      <th></th>\n      <th></th>\n    </tr>\n  </thead>\n  <tbody>\n    <tr>\n      <th>2016-03-12 00:00:00</th>\n      <td>8077525562</td>\n      <td>3/12/20163/12/2016</td>\n      <td>5543</td>\n      <td>3.97</td>\n      <td>3.97</td>\n      <td>0.0</td>\n      <td>0.00</td>\n      <td>0.0</td>\n      <td>3.96</td>\n      <td>0.01</td>\n      <td>0</td>\n      <td>0</td>\n      <td>254</td>\n      <td>2197</td>\n      <td>4767</td>\n    </tr>\n    <tr>\n      <th>2016-03-12 00:01:00</th>\n      <td>0</td>\n      <td>0</td>\n      <td>0</td>\n      <td>0.00</td>\n      <td>0.00</td>\n      <td>0.0</td>\n      <td>0.00</td>\n      <td>0.0</td>\n      <td>0.00</td>\n      <td>0.00</td>\n      <td>0</td>\n      <td>0</td>\n      <td>0</td>\n      <td>0</td>\n      <td>0</td>\n    </tr>\n    <tr>\n      <th>2016-03-12 00:02:00</th>\n      <td>0</td>\n      <td>0</td>\n      <td>0</td>\n      <td>0.00</td>\n      <td>0.00</td>\n      <td>0.0</td>\n      <td>0.00</td>\n      <td>0.0</td>\n      <td>0.00</td>\n      <td>0.00</td>\n      <td>0</td>\n      <td>0</td>\n      <td>0</td>\n      <td>0</td>\n      <td>0</td>\n    </tr>\n    <tr>\n      <th>2016-03-12 00:03:00</th>\n      <td>0</td>\n      <td>0</td>\n      <td>0</td>\n      <td>0.00</td>\n      <td>0.00</td>\n      <td>0.0</td>\n      <td>0.00</td>\n      <td>0.0</td>\n      <td>0.00</td>\n      <td>0.00</td>\n      <td>0</td>\n      <td>0</td>\n      <td>0</td>\n      <td>0</td>\n      <td>0</td>\n    </tr>\n    <tr>\n      <th>2016-03-12 00:04:00</th>\n      <td>0</td>\n      <td>0</td>\n      <td>0</td>\n      <td>0.00</td>\n      <td>0.00</td>\n      <td>0.0</td>\n      <td>0.00</td>\n      <td>0.0</td>\n      <td>0.00</td>\n      <td>0.00</td>\n      <td>0</td>\n      <td>0</td>\n      <td>0</td>\n      <td>0</td>\n      <td>0</td>\n    </tr>\n    <tr>\n      <th>...</th>\n      <td>...</td>\n      <td>...</td>\n      <td>...</td>\n      <td>...</td>\n      <td>...</td>\n      <td>...</td>\n      <td>...</td>\n      <td>...</td>\n      <td>...</td>\n      <td>...</td>\n      <td>...</td>\n      <td>...</td>\n      <td>...</td>\n      <td>...</td>\n      <td>...</td>\n    </tr>\n    <tr>\n      <th>2016-05-11 23:56:00</th>\n      <td>0</td>\n      <td>0</td>\n      <td>0</td>\n      <td>0.00</td>\n      <td>0.00</td>\n      <td>0.0</td>\n      <td>0.00</td>\n      <td>0.0</td>\n      <td>0.00</td>\n      <td>0.00</td>\n      <td>0</td>\n      <td>0</td>\n      <td>0</td>\n      <td>0</td>\n      <td>0</td>\n    </tr>\n    <tr>\n      <th>2016-05-11 23:57:00</th>\n      <td>0</td>\n      <td>0</td>\n      <td>0</td>\n      <td>0.00</td>\n      <td>0.00</td>\n      <td>0.0</td>\n      <td>0.00</td>\n      <td>0.0</td>\n      <td>0.00</td>\n      <td>0.00</td>\n      <td>0</td>\n      <td>0</td>\n      <td>0</td>\n      <td>0</td>\n      <td>0</td>\n    </tr>\n    <tr>\n      <th>2016-05-11 23:58:00</th>\n      <td>0</td>\n      <td>0</td>\n      <td>0</td>\n      <td>0.00</td>\n      <td>0.00</td>\n      <td>0.0</td>\n      <td>0.00</td>\n      <td>0.0</td>\n      <td>0.00</td>\n      <td>0.00</td>\n      <td>0</td>\n      <td>0</td>\n      <td>0</td>\n      <td>0</td>\n      <td>0</td>\n    </tr>\n    <tr>\n      <th>2016-05-11 23:59:00</th>\n      <td>0</td>\n      <td>0</td>\n      <td>0</td>\n      <td>0.00</td>\n      <td>0.00</td>\n      <td>0.0</td>\n      <td>0.00</td>\n      <td>0.0</td>\n      <td>0.00</td>\n      <td>0.00</td>\n      <td>0</td>\n      <td>0</td>\n      <td>0</td>\n      <td>0</td>\n      <td>0</td>\n    </tr>\n    <tr>\n      <th>2016-05-12 00:00:00</th>\n      <td>96074082090</td>\n      <td>5/12/20165/12/20165/12/20165/12/20165/12/20165...</td>\n      <td>73129</td>\n      <td>51.31</td>\n      <td>51.31</td>\n      <td>0.0</td>\n      <td>7.66</td>\n      <td>2.1</td>\n      <td>41.46</td>\n      <td>0.01</td>\n      <td>88</td>\n      <td>45</td>\n      <td>2075</td>\n      <td>13692</td>\n      <td>23925</td>\n    </tr>\n  </tbody>\n</table>\n<p>87841 rows × 15 columns</p>\n</div>"
     },
     "execution_count": 44,
     "metadata": {},
     "output_type": "execute_result"
    }
   ],
   "source": [
    "result_df.ffill()"
   ],
   "metadata": {
    "collapsed": false,
    "ExecuteTime": {
     "end_time": "2024-05-01T09:16:51.820737400Z",
     "start_time": "2024-05-01T09:16:51.771446500Z"
    }
   },
   "id": "e2fe3cdffa94d720",
   "execution_count": 44
  },
  {
   "cell_type": "code",
   "outputs": [
    {
     "data": {
      "text/plain": "                     Value\nDate                      \n2024-01-01 00:00:00     10\n2024-01-01 00:01:00     10\n2024-01-01 00:02:00     10\n2024-01-01 00:03:00     10\n2024-01-01 00:04:00     10\n...                    ...\n2024-01-04 23:56:00     25\n2024-01-04 23:57:00     25\n2024-01-04 23:58:00     25\n2024-01-04 23:59:00     25\n2024-01-05 00:00:00     30\n\n[5761 rows x 1 columns]",
      "text/html": "<div>\n<style scoped>\n    .dataframe tbody tr th:only-of-type {\n        vertical-align: middle;\n    }\n\n    .dataframe tbody tr th {\n        vertical-align: top;\n    }\n\n    .dataframe thead th {\n        text-align: right;\n    }\n</style>\n<table border=\"1\" class=\"dataframe\">\n  <thead>\n    <tr style=\"text-align: right;\">\n      <th></th>\n      <th>Value</th>\n    </tr>\n    <tr>\n      <th>Date</th>\n      <th></th>\n    </tr>\n  </thead>\n  <tbody>\n    <tr>\n      <th>2024-01-01 00:00:00</th>\n      <td>10</td>\n    </tr>\n    <tr>\n      <th>2024-01-01 00:01:00</th>\n      <td>10</td>\n    </tr>\n    <tr>\n      <th>2024-01-01 00:02:00</th>\n      <td>10</td>\n    </tr>\n    <tr>\n      <th>2024-01-01 00:03:00</th>\n      <td>10</td>\n    </tr>\n    <tr>\n      <th>2024-01-01 00:04:00</th>\n      <td>10</td>\n    </tr>\n    <tr>\n      <th>...</th>\n      <td>...</td>\n    </tr>\n    <tr>\n      <th>2024-01-04 23:56:00</th>\n      <td>25</td>\n    </tr>\n    <tr>\n      <th>2024-01-04 23:57:00</th>\n      <td>25</td>\n    </tr>\n    <tr>\n      <th>2024-01-04 23:58:00</th>\n      <td>25</td>\n    </tr>\n    <tr>\n      <th>2024-01-04 23:59:00</th>\n      <td>25</td>\n    </tr>\n    <tr>\n      <th>2024-01-05 00:00:00</th>\n      <td>30</td>\n    </tr>\n  </tbody>\n</table>\n<p>5761 rows × 1 columns</p>\n</div>"
     },
     "execution_count": 49,
     "metadata": {},
     "output_type": "execute_result"
    }
   ],
   "source": [
    "import pandas as pd\n",
    "# Sample dataframe with daily values\n",
    "data = {\n",
    "    'Date': pd.date_range(start='2024-01-01', end='2024-01-05', freq='D'),\n",
    "    'Value': [10, 20, 15, 25, 30]\n",
    "}\n",
    "df = pd.DataFrame(data)\n",
    "df.set_index('Date', inplace=True)\n",
    "\n",
    "# Upsample to minute intervals\n",
    "df_upsampled = df.resample('T').ffill()\n",
    "\n",
    "df_upsampled"
   ],
   "metadata": {
    "collapsed": false,
    "ExecuteTime": {
     "end_time": "2024-05-01T09:18:58.521534Z",
     "start_time": "2024-05-01T09:18:58.489732Z"
    }
   },
   "id": "988413273584ab8c",
   "execution_count": 49
  }
 ],
 "metadata": {
  "kernelspec": {
   "display_name": "Python 3",
   "language": "python",
   "name": "python3"
  },
  "language_info": {
   "codemirror_mode": {
    "name": "ipython",
    "version": 2
   },
   "file_extension": ".py",
   "mimetype": "text/x-python",
   "name": "python",
   "nbconvert_exporter": "python",
   "pygments_lexer": "ipython2",
   "version": "2.7.6"
  }
 },
 "nbformat": 4,
 "nbformat_minor": 5
}
